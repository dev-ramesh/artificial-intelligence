{
 "cells": [
  {
   "cell_type": "markdown",
   "metadata": {},
   "source": [
    "### Option 3: Build an agent using advanced search techniques (for example: killer heuristic, principle variation search (not in lecture), or monte carlo tree search (not in lecture))"
   ]
  },
  {
   "cell_type": "markdown",
   "metadata": {},
   "source": [
    "#### Create a performance baseline using run_search.py to evaluate the effectiveness of a baseline agent (e.g., an agent using your minimax or alpha-beta search code from the classroom)"
   ]
  },
  {
   "cell_type": "code",
   "execution_count": 3,
   "metadata": {},
   "outputs": [
    {
     "name": "stdout",
     "output_type": "stream",
     "text": [
      "The effectiveness of alpha-beta search is as below:\n",
      "Minmax: 60%\n",
      "Random: 100%\n",
      "Greedy: 100%\n"
     ]
    }
   ],
   "source": [
    "print(\"The effectiveness of alpha-beta search is as below:\")\n",
    "print(\"Minmax: 60%\")\n",
    "print(\"Random: 100%\")\n",
    "print(\"Greedy: 100%\")"
   ]
  },
  {
   "cell_type": "markdown",
   "metadata": {},
   "source": [
    "#### Use run_search.py to evaluate the effectiveness of your agent using your own custom search techniques"
   ]
  },
  {
   "cell_type": "code",
   "execution_count": 2,
   "metadata": {},
   "outputs": [
    {
     "name": "stdout",
     "output_type": "stream",
     "text": [
      "The effectiveness of principle variation search is as below:\n",
      "Minmax: 50%\n",
      "Random: 90%\n",
      "Greedy: 52.5%\n"
     ]
    }
   ],
   "source": [
    "print(\"The effectiveness of principle variation search is as below:\")\n",
    "print(\"Minmax: 50%\")\n",
    "print(\"Random: 90%\")\n",
    "print(\"Greedy: 52.5%\")"
   ]
  },
  {
   "cell_type": "markdown",
   "metadata": {},
   "source": [
    "#### You must decide whether to test with or without \"fair\" matches enabled--justify your choice in your report"
   ]
  },
  {
   "cell_type": "markdown",
   "metadata": {},
   "source": [
    "I decide test with \"fair\" matches enabled. Because in some games, picking a winning move for the opening guarantees the player a victory. Playing \"fair\" matches this way will balance out the advantage of picking perfect openings."
   ]
  },
  {
   "cell_type": "markdown",
   "metadata": {},
   "source": [
    "#### Q1:How much performance difference does your agent show compared to the baseline?"
   ]
  },
  {
   "cell_type": "markdown",
   "metadata": {},
   "source": [
    "A1: My agent(principle variation search) won 5% more games than baseline(alpha-beta search)."
   ]
  },
  {
   "cell_type": "markdown",
   "metadata": {},
   "source": [
    "#### Q2:Why do you think the technique you chose was more (or less) effective than the baseline?"
   ]
  },
  {
   "cell_type": "markdown",
   "metadata": {},
   "source": [
    "A2: Because principle variation search will never examine a node that can be pruned by alpha-beta."
   ]
  },
  {
   "cell_type": "code",
   "execution_count": null,
   "metadata": {
    "collapsed": true
   },
   "outputs": [],
   "source": []
  }
 ],
 "metadata": {
  "kernelspec": {
   "display_name": "Python 3",
   "language": "python",
   "name": "python3"
  },
  "language_info": {
   "codemirror_mode": {
    "name": "ipython",
    "version": 3
   },
   "file_extension": ".py",
   "mimetype": "text/x-python",
   "name": "python",
   "nbconvert_exporter": "python",
   "pygments_lexer": "ipython3",
   "version": "3.6.4"
  }
 },
 "nbformat": 4,
 "nbformat_minor": 2
}
