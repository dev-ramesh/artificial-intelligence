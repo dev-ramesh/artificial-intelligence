{
 "cells": [
  {
   "cell_type": "code",
   "execution_count": 1,
   "metadata": {},
   "outputs": [],
   "source": [
    "import pandas as pd\n",
    "import matplotlib.pyplot as plt"
   ]
  },
  {
   "cell_type": "code",
   "execution_count": 2,
   "metadata": {},
   "outputs": [
    {
     "data": {
      "text/html": [
       "<div>\n",
       "<style scoped>\n",
       "    .dataframe tbody tr th:only-of-type {\n",
       "        vertical-align: middle;\n",
       "    }\n",
       "\n",
       "    .dataframe tbody tr th {\n",
       "        vertical-align: top;\n",
       "    }\n",
       "\n",
       "    .dataframe thead th {\n",
       "        text-align: right;\n",
       "    }\n",
       "</style>\n",
       "<table border=\"1\" class=\"dataframe\">\n",
       "  <thead>\n",
       "    <tr style=\"text-align: right;\">\n",
       "      <th></th>\n",
       "      <th>Problem</th>\n",
       "      <th>Search</th>\n",
       "      <th>Actions</th>\n",
       "      <th>Expansions</th>\n",
       "      <th>Goal_Tests</th>\n",
       "      <th>New_Nodes</th>\n",
       "      <th>Plan_Length</th>\n",
       "      <th>Time_Elapsed</th>\n",
       "    </tr>\n",
       "  </thead>\n",
       "  <tbody>\n",
       "    <tr>\n",
       "      <th>0</th>\n",
       "      <td>AirCargoProblem1</td>\n",
       "      <td>breadth_first_search</td>\n",
       "      <td>20</td>\n",
       "      <td>43</td>\n",
       "      <td>56</td>\n",
       "      <td>178</td>\n",
       "      <td>6</td>\n",
       "      <td>0.020445</td>\n",
       "    </tr>\n",
       "    <tr>\n",
       "      <th>1</th>\n",
       "      <td>AirCargoProblem1</td>\n",
       "      <td>depth_first_graph_search</td>\n",
       "      <td>20</td>\n",
       "      <td>21</td>\n",
       "      <td>22</td>\n",
       "      <td>84</td>\n",
       "      <td>20</td>\n",
       "      <td>0.006557</td>\n",
       "    </tr>\n",
       "    <tr>\n",
       "      <th>2</th>\n",
       "      <td>AirCargoProblem1</td>\n",
       "      <td>uniform_cost_search</td>\n",
       "      <td>20</td>\n",
       "      <td>60</td>\n",
       "      <td>62</td>\n",
       "      <td>240</td>\n",
       "      <td>6</td>\n",
       "      <td>0.016912</td>\n",
       "    </tr>\n",
       "    <tr>\n",
       "      <th>3</th>\n",
       "      <td>AirCargoProblem1</td>\n",
       "      <td>greedy_best_first_graph_searchwithh_unmet_goals</td>\n",
       "      <td>20</td>\n",
       "      <td>7</td>\n",
       "      <td>9</td>\n",
       "      <td>29</td>\n",
       "      <td>6</td>\n",
       "      <td>0.001875</td>\n",
       "    </tr>\n",
       "    <tr>\n",
       "      <th>4</th>\n",
       "      <td>AirCargoProblem1</td>\n",
       "      <td>greedy_best_first_graph_searchwithh_pg_levelsum</td>\n",
       "      <td>20</td>\n",
       "      <td>6</td>\n",
       "      <td>8</td>\n",
       "      <td>28</td>\n",
       "      <td>6</td>\n",
       "      <td>0.666980</td>\n",
       "    </tr>\n",
       "  </tbody>\n",
       "</table>\n",
       "</div>"
      ],
      "text/plain": [
       "            Problem                                           Search  Actions  \\\n",
       "0  AirCargoProblem1                             breadth_first_search       20   \n",
       "1  AirCargoProblem1                         depth_first_graph_search       20   \n",
       "2  AirCargoProblem1                              uniform_cost_search       20   \n",
       "3  AirCargoProblem1  greedy_best_first_graph_searchwithh_unmet_goals       20   \n",
       "4  AirCargoProblem1  greedy_best_first_graph_searchwithh_pg_levelsum       20   \n",
       "\n",
       "   Expansions  Goal_Tests  New_Nodes  Plan_Length  Time_Elapsed  \n",
       "0          43          56        178            6      0.020445  \n",
       "1          21          22         84           20      0.006557  \n",
       "2          60          62        240            6      0.016912  \n",
       "3           7           9         29            6      0.001875  \n",
       "4           6           8         28            6      0.666980  "
      ]
     },
     "execution_count": 2,
     "metadata": {},
     "output_type": "execute_result"
    }
   ],
   "source": [
    "df = pd.read_table(\"processed_log1.md\", sep=\" \")\n",
    "df.head()"
   ]
  },
  {
   "cell_type": "markdown",
   "metadata": {},
   "source": [
    "### 1.Use a table or chart to analyze the number of nodes expanded against number of actions in the domain"
   ]
  },
  {
   "cell_type": "code",
   "execution_count": 9,
   "metadata": {},
   "outputs": [
    {
     "data": {
      "image/png": "[encoded data removed]",
      "text/plain": [
       "<matplotlib.figure.Figure at 0x8f75358>"
      ]
     },
     "metadata": {},
     "output_type": "display_data"
    }
   ],
   "source": [
    "df.plot.scatter(x=\"Actions\", y=\"Expansions\", c='DarkBlue', title='Nodes aginst acitons')\n",
    "plt.show()"
   ]
  },
  {
   "cell_type": "markdown",
   "metadata": {},
   "source": [
    "Answer: There is a positive correlation between the two factors. As the problem size increases, the average number of nodes expanded increases too, and the expansions variance of different algorithms also increases. "
   ]
  },
  {
   "cell_type": "markdown",
   "metadata": {},
   "source": [
    "### 2.Use a table or chart to analyze the search time against the number of actions in the domain"
   ]
  },
  {
   "cell_type": "code",
   "execution_count": 12,
   "metadata": {},
   "outputs": [
    {
     "data": {
      "image/png": "[encoded data removed]",
      "text/plain": [
       "<matplotlib.figure.Figure at 0xa2b0438>"
      ]
     },
     "metadata": {},
     "output_type": "display_data"
    }
   ],
   "source": [
    "df.plot.scatter(x=\"Actions\", y=\"Time_Elapsed\", c='DarkBlue')\n",
    "plt.show()"
   ]
  },
  {
   "cell_type": "markdown",
   "metadata": {},
   "source": [
    "Answer: There is a positive correlation between the two factors. As the problem size increases, the average Time_Elapsed increases too, and the Time_Elapsed variance of different algorithms also increases."
   ]
  },
  {
   "cell_type": "markdown",
   "metadata": {},
   "source": [
    "### 3.Use a table or chart to analyze the length of the plans returned by each algorithm on all search problems"
   ]
  },
  {
   "cell_type": "code",
   "execution_count": 40,
   "metadata": {},
   "outputs": [
    {
     "data": {
      "text/html": [
       "<div>\n",
       "<style>\n",
       "    .dataframe thead tr:only-child th {\n",
       "        text-align: right;\n",
       "    }\n",
       "\n",
       "    .dataframe thead th {\n",
       "        text-align: left;\n",
       "    }\n",
       "\n",
       "    .dataframe tbody tr th {\n",
       "        vertical-align: top;\n",
       "    }\n",
       "</style>\n",
       "<table border=\"1\" class=\"dataframe\">\n",
       "  <thead>\n",
       "    <tr style=\"text-align: right;\">\n",
       "      <th>Problem</th>\n",
       "      <th>AirCargoProblem1</th>\n",
       "      <th>AirCargoProblem2</th>\n",
       "      <th>AirCargoProblem3</th>\n",
       "      <th>AirCargoProblem4</th>\n",
       "    </tr>\n",
       "    <tr>\n",
       "      <th>Search</th>\n",
       "      <th></th>\n",
       "      <th></th>\n",
       "      <th></th>\n",
       "      <th></th>\n",
       "    </tr>\n",
       "  </thead>\n",
       "  <tbody>\n",
       "    <tr>\n",
       "      <th>astar_searchwithh_pg_levelsum</th>\n",
       "      <td>6.0</td>\n",
       "      <td>9.0</td>\n",
       "      <td>12.0</td>\n",
       "      <td>15.0</td>\n",
       "    </tr>\n",
       "    <tr>\n",
       "      <th>astar_searchwithh_pg_maxlevel</th>\n",
       "      <td>6.0</td>\n",
       "      <td>9.0</td>\n",
       "      <td>12.0</td>\n",
       "      <td>14.0</td>\n",
       "    </tr>\n",
       "    <tr>\n",
       "      <th>astar_searchwithh_pg_setlevel</th>\n",
       "      <td>6.0</td>\n",
       "      <td>9.0</td>\n",
       "      <td>12.0</td>\n",
       "      <td>NaN</td>\n",
       "    </tr>\n",
       "    <tr>\n",
       "      <th>astar_searchwithh_unmet_goals</th>\n",
       "      <td>6.0</td>\n",
       "      <td>9.0</td>\n",
       "      <td>12.0</td>\n",
       "      <td>14.0</td>\n",
       "    </tr>\n",
       "    <tr>\n",
       "      <th>breadth_first_search</th>\n",
       "      <td>6.0</td>\n",
       "      <td>9.0</td>\n",
       "      <td>12.0</td>\n",
       "      <td>14.0</td>\n",
       "    </tr>\n",
       "    <tr>\n",
       "      <th>depth_first_graph_search</th>\n",
       "      <td>20.0</td>\n",
       "      <td>619.0</td>\n",
       "      <td>392.0</td>\n",
       "      <td>24132.0</td>\n",
       "    </tr>\n",
       "    <tr>\n",
       "      <th>greedy_best_first_graph_searchwithh_pg_levelsum</th>\n",
       "      <td>6.0</td>\n",
       "      <td>9.0</td>\n",
       "      <td>14.0</td>\n",
       "      <td>17.0</td>\n",
       "    </tr>\n",
       "    <tr>\n",
       "      <th>greedy_best_first_graph_searchwithh_pg_maxlevel</th>\n",
       "      <td>6.0</td>\n",
       "      <td>9.0</td>\n",
       "      <td>13.0</td>\n",
       "      <td>17.0</td>\n",
       "    </tr>\n",
       "    <tr>\n",
       "      <th>greedy_best_first_graph_searchwithh_pg_setlevel</th>\n",
       "      <td>6.0</td>\n",
       "      <td>10.0</td>\n",
       "      <td>19.0</td>\n",
       "      <td>25.0</td>\n",
       "    </tr>\n",
       "    <tr>\n",
       "      <th>greedy_best_first_graph_searchwithh_unmet_goals</th>\n",
       "      <td>6.0</td>\n",
       "      <td>9.0</td>\n",
       "      <td>15.0</td>\n",
       "      <td>18.0</td>\n",
       "    </tr>\n",
       "    <tr>\n",
       "      <th>uniform_cost_search</th>\n",
       "      <td>6.0</td>\n",
       "      <td>9.0</td>\n",
       "      <td>12.0</td>\n",
       "      <td>14.0</td>\n",
       "    </tr>\n",
       "  </tbody>\n",
       "</table>\n",
       "</div>"
      ],
      "text/plain": [
       "Problem                                          AirCargoProblem1  \\\n",
       "Search                                                              \n",
       "astar_searchwithh_pg_levelsum                                 6.0   \n",
       "astar_searchwithh_pg_maxlevel                                 6.0   \n",
       "astar_searchwithh_pg_setlevel                                 6.0   \n",
       "astar_searchwithh_unmet_goals                                 6.0   \n",
       "breadth_first_search                                          6.0   \n",
       "depth_first_graph_search                                     20.0   \n",
       "greedy_best_first_graph_searchwithh_pg_levelsum               6.0   \n",
       "greedy_best_first_graph_searchwithh_pg_maxlevel               6.0   \n",
       "greedy_best_first_graph_searchwithh_pg_setlevel               6.0   \n",
       "greedy_best_first_graph_searchwithh_unmet_goals               6.0   \n",
       "uniform_cost_search                                           6.0   \n",
       "\n",
       "Problem                                          AirCargoProblem2  \\\n",
       "Search                                                              \n",
       "astar_searchwithh_pg_levelsum                                 9.0   \n",
       "astar_searchwithh_pg_maxlevel                                 9.0   \n",
       "astar_searchwithh_pg_setlevel                                 9.0   \n",
       "astar_searchwithh_unmet_goals                                 9.0   \n",
       "breadth_first_search                                          9.0   \n",
       "depth_first_graph_search                                    619.0   \n",
       "greedy_best_first_graph_searchwithh_pg_levelsum               9.0   \n",
       "greedy_best_first_graph_searchwithh_pg_maxlevel               9.0   \n",
       "greedy_best_first_graph_searchwithh_pg_setlevel              10.0   \n",
       "greedy_best_first_graph_searchwithh_unmet_goals               9.0   \n",
       "uniform_cost_search                                           9.0   \n",
       "\n",
       "Problem                                          AirCargoProblem3  \\\n",
       "Search                                                              \n",
       "astar_searchwithh_pg_levelsum                                12.0   \n",
       "astar_searchwithh_pg_maxlevel                                12.0   \n",
       "astar_searchwithh_pg_setlevel                                12.0   \n",
       "astar_searchwithh_unmet_goals                                12.0   \n",
       "breadth_first_search                                         12.0   \n",
       "depth_first_graph_search                                    392.0   \n",
       "greedy_best_first_graph_searchwithh_pg_levelsum              14.0   \n",
       "greedy_best_first_graph_searchwithh_pg_maxlevel              13.0   \n",
       "greedy_best_first_graph_searchwithh_pg_setlevel              19.0   \n",
       "greedy_best_first_graph_searchwithh_unmet_goals              15.0   \n",
       "uniform_cost_search                                          12.0   \n",
       "\n",
       "Problem                                          AirCargoProblem4  \n",
       "Search                                                             \n",
       "astar_searchwithh_pg_levelsum                                15.0  \n",
       "astar_searchwithh_pg_maxlevel                                14.0  \n",
       "astar_searchwithh_pg_setlevel                                 NaN  \n",
       "astar_searchwithh_unmet_goals                                14.0  \n",
       "breadth_first_search                                         14.0  \n",
       "depth_first_graph_search                                  24132.0  \n",
       "greedy_best_first_graph_searchwithh_pg_levelsum              17.0  \n",
       "greedy_best_first_graph_searchwithh_pg_maxlevel              17.0  \n",
       "greedy_best_first_graph_searchwithh_pg_setlevel              25.0  \n",
       "greedy_best_first_graph_searchwithh_unmet_goals              18.0  \n",
       "uniform_cost_search                                          14.0  "
      ]
     },
     "execution_count": 40,
     "metadata": {},
     "output_type": "execute_result"
    }
   ],
   "source": [
    "df.pivot(index=\"Search\", columns=\"Problem\", values=\"Plan_Length\")"
   ]
  },
  {
   "cell_type": "markdown",
   "metadata": {},
   "source": [
    "Answer: The depth_first_graph_search generate longest plan length and then is the greedy_best_first_graph_search."
   ]
  },
  {
   "cell_type": "markdown",
   "metadata": {},
   "source": [
    "### 4.Which algorithm or algorithms would be most appropriate for planning in a very restricted domain (i.e., one that has only a few actions) and needs to operate in real time?"
   ]
  },
  {
   "cell_type": "code",
   "execution_count": 13,
   "metadata": {},
   "outputs": [
    {
     "data": {
      "text/plain": [
       "Problem\n",
       "AirCargoProblem1     20\n",
       "AirCargoProblem2     72\n",
       "AirCargoProblem3     88\n",
       "AirCargoProblem4    104\n",
       "Name: Actions, dtype: int64"
      ]
     },
     "execution_count": 13,
     "metadata": {},
     "output_type": "execute_result"
    }
   ],
   "source": [
    "df.groupby([\"Problem\"]).min()[\"Actions\"]"
   ]
  },
  {
   "cell_type": "code",
   "execution_count": 53,
   "metadata": {},
   "outputs": [
    {
     "data": {
      "text/html": [
       "<div>\n",
       "<style>\n",
       "    .dataframe thead tr:only-child th {\n",
       "        text-align: right;\n",
       "    }\n",
       "\n",
       "    .dataframe thead th {\n",
       "        text-align: left;\n",
       "    }\n",
       "\n",
       "    .dataframe tbody tr th {\n",
       "        vertical-align: top;\n",
       "    }\n",
       "</style>\n",
       "<table border=\"1\" class=\"dataframe\">\n",
       "  <thead>\n",
       "    <tr style=\"text-align: right;\">\n",
       "      <th></th>\n",
       "      <th>Problem</th>\n",
       "      <th>Search</th>\n",
       "      <th>Time_Elapsed</th>\n",
       "    </tr>\n",
       "  </thead>\n",
       "  <tbody>\n",
       "    <tr>\n",
       "      <th>3</th>\n",
       "      <td>AirCargoProblem1</td>\n",
       "      <td>greedy_best_first_graph_searchwithh_unmet_goals</td>\n",
       "      <td>0.001875</td>\n",
       "    </tr>\n",
       "    <tr>\n",
       "      <th>1</th>\n",
       "      <td>AirCargoProblem1</td>\n",
       "      <td>depth_first_graph_search</td>\n",
       "      <td>0.006557</td>\n",
       "    </tr>\n",
       "    <tr>\n",
       "      <th>7</th>\n",
       "      <td>AirCargoProblem1</td>\n",
       "      <td>astar_searchwithh_unmet_goals</td>\n",
       "      <td>0.013105</td>\n",
       "    </tr>\n",
       "    <tr>\n",
       "      <th>2</th>\n",
       "      <td>AirCargoProblem1</td>\n",
       "      <td>uniform_cost_search</td>\n",
       "      <td>0.016912</td>\n",
       "    </tr>\n",
       "    <tr>\n",
       "      <th>0</th>\n",
       "      <td>AirCargoProblem1</td>\n",
       "      <td>breadth_first_search</td>\n",
       "      <td>0.020445</td>\n",
       "    </tr>\n",
       "    <tr>\n",
       "      <th>5</th>\n",
       "      <td>AirCargoProblem1</td>\n",
       "      <td>greedy_best_first_graph_searchwithh_pg_maxlevel</td>\n",
       "      <td>0.234453</td>\n",
       "    </tr>\n",
       "    <tr>\n",
       "      <th>9</th>\n",
       "      <td>AirCargoProblem1</td>\n",
       "      <td>astar_searchwithh_pg_maxlevel</td>\n",
       "      <td>0.322859</td>\n",
       "    </tr>\n",
       "    <tr>\n",
       "      <th>8</th>\n",
       "      <td>AirCargoProblem1</td>\n",
       "      <td>astar_searchwithh_pg_levelsum</td>\n",
       "      <td>0.360759</td>\n",
       "    </tr>\n",
       "    <tr>\n",
       "      <th>4</th>\n",
       "      <td>AirCargoProblem1</td>\n",
       "      <td>greedy_best_first_graph_searchwithh_pg_levelsum</td>\n",
       "      <td>0.666980</td>\n",
       "    </tr>\n",
       "    <tr>\n",
       "      <th>10</th>\n",
       "      <td>AirCargoProblem1</td>\n",
       "      <td>astar_searchwithh_pg_setlevel</td>\n",
       "      <td>1.031665</td>\n",
       "    </tr>\n",
       "    <tr>\n",
       "      <th>6</th>\n",
       "      <td>AirCargoProblem1</td>\n",
       "      <td>greedy_best_first_graph_searchwithh_pg_setlevel</td>\n",
       "      <td>1.148178</td>\n",
       "    </tr>\n",
       "  </tbody>\n",
       "</table>\n",
       "</div>"
      ],
      "text/plain": [
       "             Problem                                           Search  \\\n",
       "3   AirCargoProblem1  greedy_best_first_graph_searchwithh_unmet_goals   \n",
       "1   AirCargoProblem1                         depth_first_graph_search   \n",
       "7   AirCargoProblem1                    astar_searchwithh_unmet_goals   \n",
       "2   AirCargoProblem1                              uniform_cost_search   \n",
       "0   AirCargoProblem1                             breadth_first_search   \n",
       "5   AirCargoProblem1  greedy_best_first_graph_searchwithh_pg_maxlevel   \n",
       "9   AirCargoProblem1                    astar_searchwithh_pg_maxlevel   \n",
       "8   AirCargoProblem1                    astar_searchwithh_pg_levelsum   \n",
       "4   AirCargoProblem1  greedy_best_first_graph_searchwithh_pg_levelsum   \n",
       "10  AirCargoProblem1                    astar_searchwithh_pg_setlevel   \n",
       "6   AirCargoProblem1  greedy_best_first_graph_searchwithh_pg_setlevel   \n",
       "\n",
       "    Time_Elapsed  \n",
       "3       0.001875  \n",
       "1       0.006557  \n",
       "7       0.013105  \n",
       "2       0.016912  \n",
       "0       0.020445  \n",
       "5       0.234453  \n",
       "9       0.322859  \n",
       "8       0.360759  \n",
       "4       0.666980  \n",
       "10      1.031665  \n",
       "6       1.148178  "
      ]
     },
     "execution_count": 53,
     "metadata": {},
     "output_type": "execute_result"
    }
   ],
   "source": [
    "df.loc[df.Problem == \"AirCargoProblem1\",[\"Problem\", \"Search\", \"Time_Elapsed\"]].sort_values(by=\"Time_Elapsed\")"
   ]
  },
  {
   "cell_type": "markdown",
   "metadata": {},
   "source": [
    "Answer: greedy_best_first_graph_searchwithh_unmet_goals or depth_first_graph_search"
   ]
  },
  {
   "cell_type": "markdown",
   "metadata": {},
   "source": [
    "### 5.Which algorithm or algorithms would be most appropriate for planning in very large domains (e.g., planning delivery routes for all UPS drivers in the U.S. on a given day)  "
   ]
  },
  {
   "cell_type": "code",
   "execution_count": 54,
   "metadata": {},
   "outputs": [
    {
     "data": {
      "text/html": [
       "<div>\n",
       "<style>\n",
       "    .dataframe thead tr:only-child th {\n",
       "        text-align: right;\n",
       "    }\n",
       "\n",
       "    .dataframe thead th {\n",
       "        text-align: left;\n",
       "    }\n",
       "\n",
       "    .dataframe tbody tr th {\n",
       "        vertical-align: top;\n",
       "    }\n",
       "</style>\n",
       "<table border=\"1\" class=\"dataframe\">\n",
       "  <thead>\n",
       "    <tr style=\"text-align: right;\">\n",
       "      <th></th>\n",
       "      <th>Problem</th>\n",
       "      <th>Search</th>\n",
       "      <th>Time_Elapsed</th>\n",
       "    </tr>\n",
       "  </thead>\n",
       "  <tbody>\n",
       "    <tr>\n",
       "      <th>36</th>\n",
       "      <td>AirCargoProblem4</td>\n",
       "      <td>greedy_best_first_graph_searchwithh_unmet_goals</td>\n",
       "      <td>0.024215</td>\n",
       "    </tr>\n",
       "    <tr>\n",
       "      <th>40</th>\n",
       "      <td>AirCargoProblem4</td>\n",
       "      <td>astar_searchwithh_unmet_goals</td>\n",
       "      <td>4.126687</td>\n",
       "    </tr>\n",
       "    <tr>\n",
       "      <th>33</th>\n",
       "      <td>AirCargoProblem4</td>\n",
       "      <td>breadth_first_search</td>\n",
       "      <td>5.505404</td>\n",
       "    </tr>\n",
       "    <tr>\n",
       "      <th>37</th>\n",
       "      <td>AirCargoProblem4</td>\n",
       "      <td>greedy_best_first_graph_searchwithh_pg_levelsum</td>\n",
       "      <td>6.883281</td>\n",
       "    </tr>\n",
       "    <tr>\n",
       "      <th>35</th>\n",
       "      <td>AirCargoProblem4</td>\n",
       "      <td>uniform_cost_search</td>\n",
       "      <td>8.394633</td>\n",
       "    </tr>\n",
       "    <tr>\n",
       "      <th>38</th>\n",
       "      <td>AirCargoProblem4</td>\n",
       "      <td>greedy_best_first_graph_searchwithh_pg_maxlevel</td>\n",
       "      <td>14.741153</td>\n",
       "    </tr>\n",
       "    <tr>\n",
       "      <th>41</th>\n",
       "      <td>AirCargoProblem4</td>\n",
       "      <td>astar_searchwithh_pg_levelsum</td>\n",
       "      <td>437.795106</td>\n",
       "    </tr>\n",
       "    <tr>\n",
       "      <th>34</th>\n",
       "      <td>AirCargoProblem4</td>\n",
       "      <td>depth_first_graph_search</td>\n",
       "      <td>767.090839</td>\n",
       "    </tr>\n",
       "    <tr>\n",
       "      <th>39</th>\n",
       "      <td>AirCargoProblem4</td>\n",
       "      <td>greedy_best_first_graph_searchwithh_pg_setlevel</td>\n",
       "      <td>13833.821295</td>\n",
       "    </tr>\n",
       "    <tr>\n",
       "      <th>42</th>\n",
       "      <td>AirCargoProblem4</td>\n",
       "      <td>astar_searchwithh_pg_maxlevel</td>\n",
       "      <td>14585.299921</td>\n",
       "    </tr>\n",
       "  </tbody>\n",
       "</table>\n",
       "</div>"
      ],
      "text/plain": [
       "             Problem                                           Search  \\\n",
       "36  AirCargoProblem4  greedy_best_first_graph_searchwithh_unmet_goals   \n",
       "40  AirCargoProblem4                    astar_searchwithh_unmet_goals   \n",
       "33  AirCargoProblem4                             breadth_first_search   \n",
       "37  AirCargoProblem4  greedy_best_first_graph_searchwithh_pg_levelsum   \n",
       "35  AirCargoProblem4                              uniform_cost_search   \n",
       "38  AirCargoProblem4  greedy_best_first_graph_searchwithh_pg_maxlevel   \n",
       "41  AirCargoProblem4                    astar_searchwithh_pg_levelsum   \n",
       "34  AirCargoProblem4                         depth_first_graph_search   \n",
       "39  AirCargoProblem4  greedy_best_first_graph_searchwithh_pg_setlevel   \n",
       "42  AirCargoProblem4                    astar_searchwithh_pg_maxlevel   \n",
       "\n",
       "    Time_Elapsed  \n",
       "36      0.024215  \n",
       "40      4.126687  \n",
       "33      5.505404  \n",
       "37      6.883281  \n",
       "35      8.394633  \n",
       "38     14.741153  \n",
       "41    437.795106  \n",
       "34    767.090839  \n",
       "39  13833.821295  \n",
       "42  14585.299921  "
      ]
     },
     "execution_count": 54,
     "metadata": {},
     "output_type": "execute_result"
    }
   ],
   "source": [
    "df.loc[df.Problem == \"AirCargoProblem4\",[\"Problem\", \"Search\", \"Time_Elapsed\"]].sort_values(by=\"Time_Elapsed\")"
   ]
  },
  {
   "cell_type": "markdown",
   "metadata": {},
   "source": [
    "Answer: greedy_best_first_graph_searchwithh_unmet_goals."
   ]
  },
  {
   "cell_type": "markdown",
   "metadata": {},
   "source": [
    "### 6.Which algorithm or algorithms would be most appropriate for planning problems where it is important to find only optimal plans?  "
   ]
  },
  {
   "cell_type": "markdown",
   "metadata": {
    "collapsed": true
   },
   "source": [
    "Answer: astar_searchwithh_unmet_goals, breadth_first_search, uniform_cost_search"
   ]
  },
  {
   "cell_type": "code",
   "execution_count": null,
   "metadata": {},
   "outputs": [],
   "source": []
  }
 ],
 "metadata": {
  "kernelspec": {
   "display_name": "Python 3",
   "language": "python",
   "name": "python3"
  },
  "language_info": {
   "codemirror_mode": {
    "name": "ipython",
    "version": 3
   },
   "file_extension": ".py",
   "mimetype": "text/x-python",
   "name": "python",
   "nbconvert_exporter": "python",
   "pygments_lexer": "ipython3",
   "version": "3.6.4"
  }
 },
 "nbformat": 4,
 "nbformat_minor": 2
}
